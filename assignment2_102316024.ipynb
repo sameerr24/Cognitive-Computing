{
  "nbformat": 4,
  "nbformat_minor": 0,
  "metadata": {
    "colab": {
      "provenance": []
    },
    "kernelspec": {
      "name": "python3",
      "display_name": "Python 3"
    },
    "language_info": {
      "name": "python"
    }
  },
  "cells": [
    {
      "cell_type": "code",
      "execution_count": 1,
      "metadata": {
        "colab": {
          "base_uri": "https://localhost:8080/"
        },
        "id": "V46WWi-eqcOc",
        "outputId": "edf2d662-cb46-4cf9-81c6-bdc5d19ee239"
      },
      "outputs": [
        {
          "output_type": "stream",
          "name": "stdout",
          "text": [
            "[20, 40, 50, 60, 70, 80, 200, 300]\n",
            "[300, 200, 80, 70, 60, 50, 40, 20]\n"
          ]
        }
      ],
      "source": [
        "'''\n",
        "1. Create a List L that is defined as= [10, 20, 30, 40, 50, 60, 70, 80].\n",
        "i. WAP to add 200 and 300 to L.\n",
        "ii. WAP to remove 10 and 30 from L.\n",
        "iii. WAP to sort L in ascending order.\n",
        "iv. WAP to sort L in descending order.\n",
        "'''\n",
        "L = [10, 20, 30, 40, 50, 60, 70, 80]\n",
        "L.append(200)\n",
        "L.append(300)\n",
        "L.remove(10)\n",
        "L.remove(30)\n",
        "L.sort()\n",
        "print(L)\n",
        "L.sort(reverse=True)\n",
        "print(L)"
      ]
    },
    {
      "cell_type": "code",
      "source": [
        "'''\n",
        "2. Create a tuple of marks scored as scores = (45, 89.5, 76, 45.4, 89, 92, 58, 45) and\n",
        "perform the following operations using tuple functions:\n",
        "i. Identify the highest score and its index in the tuple.\n",
        "ii. Find the lowest score and count how many times it appears.\n",
        "iii. Reverse the tuple and return it as a list.\n",
        "iv. Check if a specific score \"76\" (input by the user) is present in the tuple and\n",
        "print its first occurrence index, or a message saying it’s not present.\n",
        "'''\n",
        "\n",
        "scores = (45, 89.5, 76, 45.4, 89, 92, 58, 45)\n",
        "maxScore = max(scores)\n",
        "maxIndex = scores.index(maxScore)\n",
        "print(maxScore, maxIndex)\n",
        "\n",
        "minScore = min(scores)\n",
        "minIndex = scores.index(minScore)\n",
        "print(minScore, minIndex)\n",
        "\n",
        "scoresList = list(scores)\n",
        "scoresList.reverse()\n",
        "print(scoresList)\n",
        "\n",
        "score = int(input(\"Enter a score: \"))\n",
        "if score in scores:\n",
        "    print(scores.index(score))\n",
        "else:\n",
        "    print(\"Score not found\")"
      ],
      "metadata": {
        "colab": {
          "base_uri": "https://localhost:8080/"
        },
        "id": "TchfeRTNqp6m",
        "outputId": "59246f66-ea91-4ed8-8d37-a28833307ec1"
      },
      "execution_count": 2,
      "outputs": [
        {
          "output_type": "stream",
          "name": "stdout",
          "text": [
            "92 5\n",
            "45 0\n",
            "[45, 58, 92, 89, 45.4, 76, 89.5, 45]\n",
            "Enter a score: 55\n",
            "Score not found\n"
          ]
        }
      ]
    },
    {
      "cell_type": "code",
      "source": [
        "'''\n",
        "3. WAP to create a list of 100 random numbers between 100 and 900. Count and print\n",
        "the:\n",
        "i. All odd numbers\n",
        "ii. All even numbers\n",
        "iii. All prime numbers\n",
        "'''\n",
        "import random\n",
        "randomNumbers = [random.randint(100,900) for i in range(100)]\n",
        "print(randomNumbers)\n",
        "\n",
        "def isPrime(num):\n",
        "    if num <= 1:\n",
        "        return False\n",
        "    for i in range(2, num):\n",
        "        if num % i == 0:\n",
        "            return False\n",
        "    return True\n",
        "\n",
        "oddNumbers = [i for i in randomNumbers if i % 2 != 0]\n",
        "print(oddNumbers)\n",
        "\n",
        "evenNumbers = [i for i in randomNumbers if i % 2 == 0]\n",
        "print(evenNumbers)\n",
        "\n",
        "primeNumbers = [i for i in randomNumbers if isPrime(i)]\n",
        "print(primeNumbers)\n"
      ],
      "metadata": {
        "colab": {
          "base_uri": "https://localhost:8080/"
        },
        "id": "bnYE2AfKq38Y",
        "outputId": "32eb4bce-9cd2-4483-ab03-bb4c6bb8b149"
      },
      "execution_count": 3,
      "outputs": [
        {
          "output_type": "stream",
          "name": "stdout",
          "text": [
            "[900, 790, 652, 849, 612, 734, 332, 560, 274, 371, 168, 722, 202, 205, 795, 462, 713, 398, 213, 654, 763, 785, 736, 795, 888, 326, 285, 734, 838, 496, 189, 699, 896, 311, 349, 470, 534, 819, 538, 763, 610, 778, 437, 365, 178, 810, 743, 537, 565, 834, 131, 323, 220, 142, 140, 661, 237, 330, 344, 100, 118, 578, 336, 285, 703, 394, 407, 245, 334, 661, 546, 541, 385, 730, 204, 410, 464, 416, 721, 758, 219, 628, 494, 774, 632, 135, 489, 436, 364, 791, 256, 437, 506, 579, 634, 529, 732, 635, 890, 317]\n",
            "[849, 371, 205, 795, 713, 213, 763, 785, 795, 285, 189, 699, 311, 349, 819, 763, 437, 365, 743, 537, 565, 131, 323, 661, 237, 285, 703, 407, 245, 661, 541, 385, 721, 219, 135, 489, 791, 437, 579, 529, 635, 317]\n",
            "[900, 790, 652, 612, 734, 332, 560, 274, 168, 722, 202, 462, 398, 654, 736, 888, 326, 734, 838, 496, 896, 470, 534, 538, 610, 778, 178, 810, 834, 220, 142, 140, 330, 344, 100, 118, 578, 336, 394, 334, 546, 730, 204, 410, 464, 416, 758, 628, 494, 774, 632, 436, 364, 256, 506, 634, 732, 890]\n",
            "[311, 349, 743, 131, 661, 661, 541, 317]\n"
          ]
        }
      ]
    },
    {
      "cell_type": "code",
      "source": [
        "'''\n",
        "4. Consider the following two sets, A and B, represenƟng scores of two teams in mulƟple\n",
        "matches. A = {34, 56, 78, 90} and B = {78, 45, 90, 23}\n",
        "WAP to perform the following operaƟons using set funcƟons:\n",
        "i. Find the unique scores achieved by both teams (union of sets).\n",
        "ii. IdenƟfy the scores that are common to both teams (intersecƟon of sets).\n",
        "iii. Find the scores that are exclusive to each team (symmetric difference).\n",
        "iv. Check if the scores of team A are a subset of team B, and if team B's scores are\n",
        "a superset of team A.\n",
        "v. Remove a specific score X (input by the user) from set A if it exists. If not, print\n",
        "a message saying it is not present.\n",
        "'''\n",
        "A = {34, 56, 78, 90}\n",
        "B = {78, 45, 90, 23}\n",
        "print(A.union(B))\n",
        "print(A.intersection(B))\n",
        "print(A.symmetric_difference(B))\n",
        "print(A.issubset(B))\n",
        "print(B.issuperset(A))\n",
        "score = int(input(\"Enter a score: \"))\n",
        "if score in A:\n",
        "    A.remove(score)\n",
        "else:\n",
        "    print(\"Score not found\")\n",
        "print(A)"
      ],
      "metadata": {
        "colab": {
          "base_uri": "https://localhost:8080/"
        },
        "id": "4_lO2gvxrAi8",
        "outputId": "c4dfb3c0-77f3-4c99-f51a-57150cb7740b"
      },
      "execution_count": 4,
      "outputs": [
        {
          "output_type": "stream",
          "name": "stdout",
          "text": [
            "{34, 45, 78, 23, 56, 90}\n",
            "{90, 78}\n",
            "{34, 45, 23, 56}\n",
            "False\n",
            "False\n",
            "Enter a score: 556\n",
            "Score not found\n",
            "{56, 34, 90, 78}\n"
          ]
        }
      ]
    }
  ]
}