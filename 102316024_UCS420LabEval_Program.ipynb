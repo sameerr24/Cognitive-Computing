{
  "nbformat": 4,
  "nbformat_minor": 0,
  "metadata": {
    "colab": {
      "provenance": []
    },
    "kernelspec": {
      "name": "python3",
      "display_name": "Python 3"
    },
    "language_info": {
      "name": "python"
    }
  },
  "cells": [
    {
      "cell_type": "code",
      "execution_count": 1,
      "metadata": {
        "colab": {
          "base_uri": "https://localhost:8080/",
          "height": 74
        },
        "id": "knQ3idpSy0yC",
        "outputId": "8cb8f95f-bc3a-42f1-aaf7-de4da073c90b"
      },
      "outputs": [
        {
          "output_type": "display_data",
          "data": {
            "text/plain": [
              "<IPython.core.display.HTML object>"
            ],
            "text/html": [
              "\n",
              "     <input type=\"file\" id=\"files-c2a4d744-77ff-4d77-a70c-cfba66d8b33a\" name=\"files[]\" multiple disabled\n",
              "        style=\"border:none\" />\n",
              "     <output id=\"result-c2a4d744-77ff-4d77-a70c-cfba66d8b33a\">\n",
              "      Upload widget is only available when the cell has been executed in the\n",
              "      current browser session. Please rerun this cell to enable.\n",
              "      </output>\n",
              "      <script>// Copyright 2017 Google LLC\n",
              "//\n",
              "// Licensed under the Apache License, Version 2.0 (the \"License\");\n",
              "// you may not use this file except in compliance with the License.\n",
              "// You may obtain a copy of the License at\n",
              "//\n",
              "//      http://www.apache.org/licenses/LICENSE-2.0\n",
              "//\n",
              "// Unless required by applicable law or agreed to in writing, software\n",
              "// distributed under the License is distributed on an \"AS IS\" BASIS,\n",
              "// WITHOUT WARRANTIES OR CONDITIONS OF ANY KIND, either express or implied.\n",
              "// See the License for the specific language governing permissions and\n",
              "// limitations under the License.\n",
              "\n",
              "/**\n",
              " * @fileoverview Helpers for google.colab Python module.\n",
              " */\n",
              "(function(scope) {\n",
              "function span(text, styleAttributes = {}) {\n",
              "  const element = document.createElement('span');\n",
              "  element.textContent = text;\n",
              "  for (const key of Object.keys(styleAttributes)) {\n",
              "    element.style[key] = styleAttributes[key];\n",
              "  }\n",
              "  return element;\n",
              "}\n",
              "\n",
              "// Max number of bytes which will be uploaded at a time.\n",
              "const MAX_PAYLOAD_SIZE = 100 * 1024;\n",
              "\n",
              "function _uploadFiles(inputId, outputId) {\n",
              "  const steps = uploadFilesStep(inputId, outputId);\n",
              "  const outputElement = document.getElementById(outputId);\n",
              "  // Cache steps on the outputElement to make it available for the next call\n",
              "  // to uploadFilesContinue from Python.\n",
              "  outputElement.steps = steps;\n",
              "\n",
              "  return _uploadFilesContinue(outputId);\n",
              "}\n",
              "\n",
              "// This is roughly an async generator (not supported in the browser yet),\n",
              "// where there are multiple asynchronous steps and the Python side is going\n",
              "// to poll for completion of each step.\n",
              "// This uses a Promise to block the python side on completion of each step,\n",
              "// then passes the result of the previous step as the input to the next step.\n",
              "function _uploadFilesContinue(outputId) {\n",
              "  const outputElement = document.getElementById(outputId);\n",
              "  const steps = outputElement.steps;\n",
              "\n",
              "  const next = steps.next(outputElement.lastPromiseValue);\n",
              "  return Promise.resolve(next.value.promise).then((value) => {\n",
              "    // Cache the last promise value to make it available to the next\n",
              "    // step of the generator.\n",
              "    outputElement.lastPromiseValue = value;\n",
              "    return next.value.response;\n",
              "  });\n",
              "}\n",
              "\n",
              "/**\n",
              " * Generator function which is called between each async step of the upload\n",
              " * process.\n",
              " * @param {string} inputId Element ID of the input file picker element.\n",
              " * @param {string} outputId Element ID of the output display.\n",
              " * @return {!Iterable<!Object>} Iterable of next steps.\n",
              " */\n",
              "function* uploadFilesStep(inputId, outputId) {\n",
              "  const inputElement = document.getElementById(inputId);\n",
              "  inputElement.disabled = false;\n",
              "\n",
              "  const outputElement = document.getElementById(outputId);\n",
              "  outputElement.innerHTML = '';\n",
              "\n",
              "  const pickedPromise = new Promise((resolve) => {\n",
              "    inputElement.addEventListener('change', (e) => {\n",
              "      resolve(e.target.files);\n",
              "    });\n",
              "  });\n",
              "\n",
              "  const cancel = document.createElement('button');\n",
              "  inputElement.parentElement.appendChild(cancel);\n",
              "  cancel.textContent = 'Cancel upload';\n",
              "  const cancelPromise = new Promise((resolve) => {\n",
              "    cancel.onclick = () => {\n",
              "      resolve(null);\n",
              "    };\n",
              "  });\n",
              "\n",
              "  // Wait for the user to pick the files.\n",
              "  const files = yield {\n",
              "    promise: Promise.race([pickedPromise, cancelPromise]),\n",
              "    response: {\n",
              "      action: 'starting',\n",
              "    }\n",
              "  };\n",
              "\n",
              "  cancel.remove();\n",
              "\n",
              "  // Disable the input element since further picks are not allowed.\n",
              "  inputElement.disabled = true;\n",
              "\n",
              "  if (!files) {\n",
              "    return {\n",
              "      response: {\n",
              "        action: 'complete',\n",
              "      }\n",
              "    };\n",
              "  }\n",
              "\n",
              "  for (const file of files) {\n",
              "    const li = document.createElement('li');\n",
              "    li.append(span(file.name, {fontWeight: 'bold'}));\n",
              "    li.append(span(\n",
              "        `(${file.type || 'n/a'}) - ${file.size} bytes, ` +\n",
              "        `last modified: ${\n",
              "            file.lastModifiedDate ? file.lastModifiedDate.toLocaleDateString() :\n",
              "                                    'n/a'} - `));\n",
              "    const percent = span('0% done');\n",
              "    li.appendChild(percent);\n",
              "\n",
              "    outputElement.appendChild(li);\n",
              "\n",
              "    const fileDataPromise = new Promise((resolve) => {\n",
              "      const reader = new FileReader();\n",
              "      reader.onload = (e) => {\n",
              "        resolve(e.target.result);\n",
              "      };\n",
              "      reader.readAsArrayBuffer(file);\n",
              "    });\n",
              "    // Wait for the data to be ready.\n",
              "    let fileData = yield {\n",
              "      promise: fileDataPromise,\n",
              "      response: {\n",
              "        action: 'continue',\n",
              "      }\n",
              "    };\n",
              "\n",
              "    // Use a chunked sending to avoid message size limits. See b/62115660.\n",
              "    let position = 0;\n",
              "    do {\n",
              "      const length = Math.min(fileData.byteLength - position, MAX_PAYLOAD_SIZE);\n",
              "      const chunk = new Uint8Array(fileData, position, length);\n",
              "      position += length;\n",
              "\n",
              "      const base64 = btoa(String.fromCharCode.apply(null, chunk));\n",
              "      yield {\n",
              "        response: {\n",
              "          action: 'append',\n",
              "          file: file.name,\n",
              "          data: base64,\n",
              "        },\n",
              "      };\n",
              "\n",
              "      let percentDone = fileData.byteLength === 0 ?\n",
              "          100 :\n",
              "          Math.round((position / fileData.byteLength) * 100);\n",
              "      percent.textContent = `${percentDone}% done`;\n",
              "\n",
              "    } while (position < fileData.byteLength);\n",
              "  }\n",
              "\n",
              "  // All done.\n",
              "  yield {\n",
              "    response: {\n",
              "      action: 'complete',\n",
              "    }\n",
              "  };\n",
              "}\n",
              "\n",
              "scope.google = scope.google || {};\n",
              "scope.google.colab = scope.google.colab || {};\n",
              "scope.google.colab._files = {\n",
              "  _uploadFiles,\n",
              "  _uploadFilesContinue,\n",
              "};\n",
              "})(self);\n",
              "</script> "
            ]
          },
          "metadata": {}
        },
        {
          "output_type": "stream",
          "name": "stdout",
          "text": [
            "Saving 1429_1.csv to 1429_1.csv\n"
          ]
        }
      ],
      "source": [
        "from google.colab import files\n",
        "uploaded = files.upload()"
      ]
    },
    {
      "cell_type": "code",
      "source": [
        "import pandas as pd\n",
        "df = pd.read_csv('1429_1.csv')\n",
        "\n",
        "# a)\n",
        "\n",
        "print(df.columns)\n",
        "non_empty_reviews = df[df['reviews.text'].notna() & (df['reviews.text'].str.strip() != '')]\n",
        "print(non_empty_reviews['reviews.text'].head(5))"
      ],
      "metadata": {
        "colab": {
          "base_uri": "https://localhost:8080/"
        },
        "id": "h1q1rQ5-C8cC",
        "outputId": "d8ccc285-3ee8-43cb-e0f7-bb85e06220e3"
      },
      "execution_count": 4,
      "outputs": [
        {
          "output_type": "stream",
          "name": "stdout",
          "text": [
            "Index(['id', 'name', 'asins', 'brand', 'categories', 'keys', 'manufacturer',\n",
            "       'reviews.date', 'reviews.dateAdded', 'reviews.dateSeen',\n",
            "       'reviews.didPurchase', 'reviews.doRecommend', 'reviews.id',\n",
            "       'reviews.numHelpful', 'reviews.rating', 'reviews.sourceURLs',\n",
            "       'reviews.text', 'reviews.title', 'reviews.userCity',\n",
            "       'reviews.userProvince', 'reviews.username'],\n",
            "      dtype='object')\n",
            "0    This product so far has not disappointed. My c...\n",
            "1    great for beginner or experienced person. Boug...\n",
            "2    Inexpensive tablet for him to use and learn on...\n",
            "3    I've had my Fire HD 8 two weeks now and I love...\n",
            "4    I bought this for my grand daughter when she c...\n",
            "Name: reviews.text, dtype: object\n"
          ]
        },
        {
          "output_type": "stream",
          "name": "stderr",
          "text": [
            "<ipython-input-4-e70718c37430>:2: DtypeWarning: Columns (1,10) have mixed types. Specify dtype option on import or set low_memory=False.\n",
            "  df = pd.read_csv('1429_1.csv')\n"
          ]
        }
      ]
    },
    {
      "cell_type": "code",
      "source": [
        "import pandas as pd\n",
        "import nltk\n",
        "nltk.download('punkt_tab')\n",
        "from nltk.corpus import stopwords\n",
        "from nltk.tokenize import word_tokenize\n",
        "nltk.download('punkt', force=True)\n",
        "nltk.download('stopwords', force=True)\n",
        "\n",
        "df = pd.read_csv('1429_1.csv')\n",
        "\n",
        "#b)\n",
        "\n",
        "print(df.columns)\n",
        "print(df[['reviews.text']].head())\n",
        "df = df[df['reviews.text'].notna() & (df['reviews.text'].str.strip() != '')]\n",
        "\n",
        "stop_words = set(stopwords.words('english'))\n",
        "\n",
        "def preprocess_review(text):\n",
        "    text = text.lower()\n",
        "    tokens = word_tokenize(text)\n",
        "    return [word for word in tokens if word.isalpha() and word not in stop_words]\n",
        "\n",
        "df['processed_review'] = df['reviews.text'].apply(preprocess_review)\n",
        "\n",
        "print(df['processed_review'].head())"
      ],
      "metadata": {
        "colab": {
          "base_uri": "https://localhost:8080/"
        },
        "id": "hEK8B4ZOFbSd",
        "outputId": "d096a9a6-98ee-47eb-8bc4-c0d3392ebfc8"
      },
      "execution_count": 14,
      "outputs": [
        {
          "output_type": "stream",
          "name": "stderr",
          "text": [
            "[nltk_data] Downloading package punkt_tab to /root/nltk_data...\n",
            "[nltk_data]   Package punkt_tab is already up-to-date!\n",
            "[nltk_data] Downloading package punkt to /root/nltk_data...\n",
            "[nltk_data]   Unzipping tokenizers/punkt.zip.\n",
            "[nltk_data] Downloading package stopwords to /root/nltk_data...\n",
            "[nltk_data]   Unzipping corpora/stopwords.zip.\n",
            "<ipython-input-14-5d382d5a7e82>:9: DtypeWarning: Columns (1,10) have mixed types. Specify dtype option on import or set low_memory=False.\n",
            "  df = pd.read_csv('1429_1.csv')\n"
          ]
        },
        {
          "output_type": "stream",
          "name": "stdout",
          "text": [
            "Index(['id', 'name', 'asins', 'brand', 'categories', 'keys', 'manufacturer',\n",
            "       'reviews.date', 'reviews.dateAdded', 'reviews.dateSeen',\n",
            "       'reviews.didPurchase', 'reviews.doRecommend', 'reviews.id',\n",
            "       'reviews.numHelpful', 'reviews.rating', 'reviews.sourceURLs',\n",
            "       'reviews.text', 'reviews.title', 'reviews.userCity',\n",
            "       'reviews.userProvince', 'reviews.username'],\n",
            "      dtype='object')\n",
            "                                        reviews.text\n",
            "0  This product so far has not disappointed. My c...\n",
            "1  great for beginner or experienced person. Boug...\n",
            "2  Inexpensive tablet for him to use and learn on...\n",
            "3  I've had my Fire HD 8 two weeks now and I love...\n",
            "4  I bought this for my grand daughter when she c...\n",
            "0    [product, far, disappointed, children, love, u...\n",
            "1    [great, beginner, experienced, person, bought,...\n",
            "2    [inexpensive, tablet, use, learn, step, nabi, ...\n",
            "3    [fire, hd, two, weeks, love, tablet, great, pr...\n",
            "4    [bought, grand, daughter, comes, visit, set, u...\n",
            "Name: processed_review, dtype: object\n"
          ]
        }
      ]
    },
    {
      "cell_type": "code",
      "source": [
        "import pandas as pd\n",
        "from sklearn.feature_extraction.text import TfidfVectorizer\n",
        "import nltk\n",
        "nltk.download('punkt_tab')\n",
        "from nltk.corpus import stopwords, wordnet\n",
        "from nltk.tokenize import word_tokenize\n",
        "from nltk.stem import PorterStemmer, WordNetLemmatizer\n",
        "\n",
        "nltk.download('punkt', force=True)\n",
        "nltk.download('stopwords', force=True)\n",
        "nltk.download('wordnet', force=True)\n",
        "nltk.download('omw-1.4', force=True)\n",
        "\n",
        "# c)\n",
        "\n",
        "df = pd.read_csv('1429_1.csv')\n",
        "\n",
        "df = df[df['reviews.text'].notna() & (df['reviews.text'].str.strip() != '')]\n",
        "\n",
        "stop_words = set(stopwords.words('english'))\n",
        "\n",
        "stemmer = PorterStemmer()\n",
        "lemmatizer = WordNetLemmatizer()\n",
        "\n",
        "def clean_tokens(text):\n",
        "    text = text.lower()\n",
        "    tokens = word_tokenize(text)\n",
        "    return [word for word in tokens if word.isalpha() and word not in stop_words]\n",
        "\n",
        "def stem_tokens(tokens):\n",
        "    return [stemmer.stem(word) for word in tokens]\n",
        "\n",
        "def lemmatize_tokens(tokens):\n",
        "    return [lemmatizer.lemmatize(word) for word in tokens]\n",
        "\n",
        "df['clean_tokens'] = df['reviews.text'].apply(clean_tokens)\n",
        "df['stemmed'] = df['clean_tokens'].apply(stem_tokens)\n",
        "df['lemmatized'] = df['clean_tokens'].apply(lemmatize_tokens)\n",
        "\n",
        "for i in range(5):\n",
        "    print(f\"\\nOriginal:    {df['clean_tokens'].iloc[i]}\")\n",
        "    print(f\"Stemmed:     {df['stemmed'].iloc[i]}\")\n",
        "    print(f\"Lemmatized:  {df['lemmatized'].iloc[i]}\")\n",
        "\n",
        "\n",
        "# d)\n",
        "\n",
        "df['lemmatized_text'] = df['lemmatized'].apply(lambda tokens: ' '.join(tokens))\n",
        "\n",
        "vectorizer = TfidfVectorizer()\n",
        "tfidf_matrix = vectorizer.fit_transform(df['lemmatized_text'])\n",
        "\n",
        "print(f\"TF-IDF matrix shape: {tfidf_matrix.shape}\")\n",
        "print(\"Feature names (vocabulary):\")\n",
        "print(vectorizer.get_feature_names_out()[:50])"
      ],
      "metadata": {
        "colab": {
          "base_uri": "https://localhost:8080/"
        },
        "id": "f7hsmsfeGX7N",
        "outputId": "0ba24722-e610-42e5-dbf8-2ca1083723d9"
      },
      "execution_count": 16,
      "outputs": [
        {
          "output_type": "stream",
          "name": "stderr",
          "text": [
            "[nltk_data] Downloading package punkt_tab to /root/nltk_data...\n",
            "[nltk_data]   Package punkt_tab is already up-to-date!\n",
            "[nltk_data] Downloading package punkt to /root/nltk_data...\n",
            "[nltk_data]   Unzipping tokenizers/punkt.zip.\n",
            "[nltk_data] Downloading package stopwords to /root/nltk_data...\n",
            "[nltk_data]   Unzipping corpora/stopwords.zip.\n",
            "[nltk_data] Downloading package wordnet to /root/nltk_data...\n",
            "[nltk_data] Downloading package omw-1.4 to /root/nltk_data...\n",
            "<ipython-input-16-3719ba28662f>:14: DtypeWarning: Columns (1,10) have mixed types. Specify dtype option on import or set low_memory=False.\n",
            "  df = pd.read_csv('1429_1.csv')\n"
          ]
        },
        {
          "output_type": "stream",
          "name": "stdout",
          "text": [
            "\n",
            "Original:    ['product', 'far', 'disappointed', 'children', 'love', 'use', 'like', 'ability', 'monitor', 'control', 'content', 'see', 'ease']\n",
            "Stemmed:     ['product', 'far', 'disappoint', 'children', 'love', 'use', 'like', 'abil', 'monitor', 'control', 'content', 'see', 'eas']\n",
            "Lemmatized:  ['product', 'far', 'disappointed', 'child', 'love', 'use', 'like', 'ability', 'monitor', 'control', 'content', 'see', 'ease']\n",
            "\n",
            "Original:    ['great', 'beginner', 'experienced', 'person', 'bought', 'gift', 'loves']\n",
            "Stemmed:     ['great', 'beginn', 'experienc', 'person', 'bought', 'gift', 'love']\n",
            "Lemmatized:  ['great', 'beginner', 'experienced', 'person', 'bought', 'gift', 'love']\n",
            "\n",
            "Original:    ['inexpensive', 'tablet', 'use', 'learn', 'step', 'nabi', 'thrilled', 'learn', 'skype', 'already']\n",
            "Stemmed:     ['inexpens', 'tablet', 'use', 'learn', 'step', 'nabi', 'thrill', 'learn', 'skype', 'alreadi']\n",
            "Lemmatized:  ['inexpensive', 'tablet', 'use', 'learn', 'step', 'nabi', 'thrilled', 'learn', 'skype', 'already']\n",
            "\n",
            "Original:    ['fire', 'hd', 'two', 'weeks', 'love', 'tablet', 'great', 'prime', 'members', 'tablet', 'shines', 'love', 'able', 'easily', 'access', 'prime', 'content', 'well', 'movies', 'download', 'watch', 'laterthis', 'screen', 'really', 'nice', 'look', 'nice', 'crisp', 'bright', 'infact', 'brighter', 'ipad', 'pro', 'costing', 'base', 'model', 'build', 'fire', 'insanely', 'awesome', 'running', 'thick', 'smooth', 'glossy', 'feel', 'back', 'really', 'amazing', 'hold', 'like', 'futuristic', 'tab', 'ur', 'hands']\n",
            "Stemmed:     ['fire', 'hd', 'two', 'week', 'love', 'tablet', 'great', 'prime', 'member', 'tablet', 'shine', 'love', 'abl', 'easili', 'access', 'prime', 'content', 'well', 'movi', 'download', 'watch', 'laterthi', 'screen', 'realli', 'nice', 'look', 'nice', 'crisp', 'bright', 'infact', 'brighter', 'ipad', 'pro', 'cost', 'base', 'model', 'build', 'fire', 'insan', 'awesom', 'run', 'thick', 'smooth', 'glossi', 'feel', 'back', 'realli', 'amaz', 'hold', 'like', 'futurist', 'tab', 'ur', 'hand']\n",
            "Lemmatized:  ['fire', 'hd', 'two', 'week', 'love', 'tablet', 'great', 'prime', 'member', 'tablet', 'shine', 'love', 'able', 'easily', 'access', 'prime', 'content', 'well', 'movie', 'download', 'watch', 'laterthis', 'screen', 'really', 'nice', 'look', 'nice', 'crisp', 'bright', 'infact', 'brighter', 'ipad', 'pro', 'costing', 'base', 'model', 'build', 'fire', 'insanely', 'awesome', 'running', 'thick', 'smooth', 'glossy', 'feel', 'back', 'really', 'amazing', 'hold', 'like', 'futuristic', 'tab', 'ur', 'hand']\n",
            "\n",
            "Original:    ['bought', 'grand', 'daughter', 'comes', 'visit', 'set', 'user', 'entered', 'age', 'name', 'amazon', 'makes', 'sure', 'accesses', 'sites', 'content', 'appropriate', 'age', 'simple', 'loves', 'capabilities', 'also', 'bought', 'installed', 'sd', 'card', 'gives', 'little', 'tablet', 'plenty', 'storage', 'price', 'think', 'tablet', 'best', 'one', 'spend', 'hundreds', 'dollars', 'additional', 'speed', 'capacity', 'comes', 'basics', 'tablets', 'everything', 'people', 'ever', 'need', 'fraction', 'cost']\n",
            "Stemmed:     ['bought', 'grand', 'daughter', 'come', 'visit', 'set', 'user', 'enter', 'age', 'name', 'amazon', 'make', 'sure', 'access', 'site', 'content', 'appropri', 'age', 'simpl', 'love', 'capabl', 'also', 'bought', 'instal', 'sd', 'card', 'give', 'littl', 'tablet', 'plenti', 'storag', 'price', 'think', 'tablet', 'best', 'one', 'spend', 'hundr', 'dollar', 'addit', 'speed', 'capac', 'come', 'basic', 'tablet', 'everyth', 'peopl', 'ever', 'need', 'fraction', 'cost']\n",
            "Lemmatized:  ['bought', 'grand', 'daughter', 'come', 'visit', 'set', 'user', 'entered', 'age', 'name', 'amazon', 'make', 'sure', 'access', 'site', 'content', 'appropriate', 'age', 'simple', 'love', 'capability', 'also', 'bought', 'installed', 'sd', 'card', 'give', 'little', 'tablet', 'plenty', 'storage', 'price', 'think', 'tablet', 'best', 'one', 'spend', 'hundred', 'dollar', 'additional', 'speed', 'capacity', 'come', 'basic', 'tablet', 'everything', 'people', 'ever', 'need', 'fraction', 'cost']\n",
            "TF-IDF matrix shape: (34659, 11751)\n",
            "Feature names (vocabulary):\n",
            "['aa' 'aaa' 'aamazon' 'aand' 'abandon' 'abandoned' 'abandoning' 'abc'\n",
            " 'abcmouse' 'abd' 'ability' 'abilty' 'abit' 'abke' 'able' 'abnormal'\n",
            " 'abode' 'abook' 'abort' 'abound' 'abount' 'aboutjust' 'abroad' 'abruptly'\n",
            " 'absence' 'absofbing' 'absoluitely' 'absolute' 'absolutely' 'absolutly'\n",
            " 'absorbs' 'absoutley' 'abundance' 'abundant' 'abuse' 'abused' 'abysmal'\n",
            " 'ac' 'academic' 'acc' 'accedently' 'acceleration' 'accelerometer'\n",
            " 'accent' 'accept' 'acceptable' 'acceptably' 'acceptance' 'accepted'\n",
            " 'accepting']\n"
          ]
        }
      ]
    },
    {
      "cell_type": "code",
      "source": [
        "from sklearn.metrics.pairwise import cosine_similarity\n",
        "\n",
        "# e)\n",
        "\n",
        "cos_sim = cosine_similarity(tfidf_matrix[0], tfidf_matrix[1])\n",
        "print(f\"Cosine Similarity between review 1 and 2: {cos_sim[0][0]:.4f}\")"
      ],
      "metadata": {
        "colab": {
          "base_uri": "https://localhost:8080/"
        },
        "id": "suqvlqL0IoGn",
        "outputId": "7f0d34ba-6a29-440b-da03-d66db2a6edd5"
      },
      "execution_count": 17,
      "outputs": [
        {
          "output_type": "stream",
          "name": "stdout",
          "text": [
            "Cosine Similarity between review 1 and 2: 0.0252\n"
          ]
        }
      ]
    }
  ]
}