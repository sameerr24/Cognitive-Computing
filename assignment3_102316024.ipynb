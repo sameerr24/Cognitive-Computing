import pandas as pd

# Q1: Creating the dataset
data = {
    "Employee_ID": [101, 102, 103, 104, 105],
    "Name": ["Alice", "Bob", "Charlie", "Diana", "Edward"],
    "Department": ["HR", "IT", "Finance", "Marketing", "Sales"],
    "Years_of_Experience": [29, 34, 41, 28, 38],
    "Salary": [5000, 7000, 6500, 5500, 6000],
    "Joining_Date": ["2020-03-15", "2017-07-19", "2013-06-01", "2021-02-10", "2010-11-25"],
    "Gender": ["Female", "Male", "Male", "Female", "Male"],
    "Bonus": [5000, 7000, 6000, 4000, 5000],
    "Performance_Rating": [4.5, 4.0, 3.8, 4.7, 3.5]
}

df = pd.DataFrame(data)

# Q2: Locate row 0, 4, 7 and 8 (only 5 rows exist, so adjusted selection)
selected_rows = df.iloc[[0, 4]]

# Q3: Perform DataFrame navigation
df_rows_3_to_7 = df.iloc[3:7]  # Only indexes available in range
df_rows_4_to_8_cols_2_to_4 = df.iloc[1:5, 2:5]
df_cols_1_to_3 = df.iloc[:, 1:4]

# Q4: Read CSV file and display first 5 rows
iris_df = pd.read_csv("Iris.csv")
first_five_rows = iris_df.head()

# Q5: Delete row 4 and column 3
modified_iris_df = iris_df.drop(index=4).drop(iris_df.columns[3], axis=1)

# Q6: Create employees.csv
df.to_csv("employees.csv", index=False)

# Q6a: Shape of the DataFrame
shape = df.shape

# Q6b: Summary of the DataFrame
summary = df.info()

# Q6c: Descriptive statistics
descriptive_stats = df.describe()

# Q6d: First 5 and last 3 rows
first_5 = df.head()
last_3 = df.tail(3)

# Q6e: Calculate statistics
average_salary = df["Salary"].mean()
total_bonus = df["Bonus"].sum()
youngest_age = df["Years_of_Experience"].min()
highest_rating = df["Performance_Rating"].max()

# Q6f: Sort by Salary
df_sorted = df.sort_values(by="Salary", ascending=False)

# Q6g: Add Performance Category
def categorize_performance(rating):
    if rating >= 4.5:
        return "Excellent"
    elif rating >= 4.0:
        return "Good"
    else:
        return "Average"

df["Performance_Category"] = df["Performance_Rating"].apply(categorize_performance)

# Q6h: Identify missing values
missing_values = df.isnull().sum()

# Q6i: Rename Employee_ID column
df.rename(columns={"Employee_ID": "ID"}, inplace=True)

# Q6j: Find employees with more than 5 years experience or in IT dept
exp_gt_5 = df[df["Years_of_Experience"] > 5]
it_employees = df[df["Department"] == "IT"]

# Q6k: Add Tax column
df["Tax"] = df["Salary"] * 0.1

# Q6l: Save modified DataFrame
df.to_csv("modified_employees.csv", index=False)
