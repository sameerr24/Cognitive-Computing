{
  "nbformat": 4,
  "nbformat_minor": 0,
  "metadata": {
    "colab": {
      "provenance": []
    },
    "kernelspec": {
      "name": "python3",
      "display_name": "Python 3"
    },
    "language_info": {
      "name": "python"
    }
  },
  "cells": [
    {
      "cell_type": "code",
      "execution_count": 1,
      "metadata": {
        "colab": {
          "base_uri": "https://localhost:8080/"
        },
        "id": "8ccecZJnnniq",
        "outputId": "fdc3e5bd-10ec-4c6a-f1b0-df02deabb782"
      },
      "outputs": [
        {
          "output_type": "stream",
          "name": "stdout",
          "text": [
            "Sahil\n",
            "Sahil\n",
            "Sahil\n"
          ]
        }
      ],
      "source": [
        "# #1.1\n",
        "\n",
        "for i in range (0,3):\n",
        "    print(\"Sahil\")"
      ]
    },
    {
      "cell_type": "code",
      "source": [
        "# #2.1\n",
        "\n",
        "a=10\n",
        "b=20\n",
        "c=30\n",
        "print(a+b+c)"
      ],
      "metadata": {
        "colab": {
          "base_uri": "https://localhost:8080/"
        },
        "id": "uU4vqUaxoE1W",
        "outputId": "419f130f-eb65-4ee4-9a5d-1fe04eec5c41"
      },
      "execution_count": 2,
      "outputs": [
        {
          "output_type": "stream",
          "name": "stdout",
          "text": [
            "60\n"
          ]
        }
      ]
    },
    {
      "cell_type": "code",
      "source": [
        " #2.2\n",
        "\n",
        "x=\"sahil\"\n",
        "y=\"kumar\"\n",
        "\n",
        "print(str(x)+str(y)) #2.2\n",
        "\n",
        "x=\"sahil\"\n",
        "y=\"kumar\"\n",
        "\n",
        "print(str(x)+str(y))"
      ],
      "metadata": {
        "colab": {
          "base_uri": "https://localhost:8080/"
        },
        "id": "ttlUH0LPoSzg",
        "outputId": "94a9eea4-1f5b-4a62-a213-7dc77d7b9a5b"
      },
      "execution_count": 3,
      "outputs": [
        {
          "output_type": "stream",
          "name": "stdout",
          "text": [
            "sahilkumar\n",
            "sahilkumar\n"
          ]
        }
      ]
    },
    {
      "cell_type": "code",
      "source": [
        " #4.1\n",
        "f=int(input(\"enter a number\"))\n",
        "\n",
        "for i in range(1,11):\n",
        "    print(f,\" * \",i,\" = \",f*i)"
      ],
      "metadata": {
        "colab": {
          "base_uri": "https://localhost:8080/"
        },
        "id": "4HKQbA0-oXTy",
        "outputId": "c4a39018-7a99-4c6e-ad45-a5aaab5ba840"
      },
      "execution_count": 4,
      "outputs": [
        {
          "output_type": "stream",
          "name": "stdout",
          "text": [
            "enter a number5\n",
            "5  *  1  =  5\n",
            "5  *  2  =  10\n",
            "5  *  3  =  15\n",
            "5  *  4  =  20\n",
            "5  *  5  =  25\n",
            "5  *  6  =  30\n",
            "5  *  7  =  35\n",
            "5  *  8  =  40\n",
            "5  *  9  =  45\n",
            "5  *  10  =  50\n"
          ]
        }
      ]
    },
    {
      "cell_type": "code",
      "source": [
        "g=int(input(\"enter a number\"))\n",
        "m=int(input(\"enter a number\"))\n",
        "\n",
        "for i in range (1,m+1):\n",
        "    print(g,\" * \",i,\" = \",g*i)\n"
      ],
      "metadata": {
        "colab": {
          "base_uri": "https://localhost:8080/"
        },
        "id": "sjQUAt4RoalZ",
        "outputId": "c0b42b49-2f1d-49be-9385-b7f94c0e9ec2"
      },
      "execution_count": 5,
      "outputs": [
        {
          "output_type": "stream",
          "name": "stdout",
          "text": [
            "enter a number5\n",
            "enter a number4\n",
            "5  *  1  =  5\n",
            "5  *  2  =  10\n",
            "5  *  3  =  15\n",
            "5  *  4  =  20\n"
          ]
        }
      ]
    },
    {
      "cell_type": "code",
      "source": [
        "#4.3\n",
        "n=int(input(\"enter a number\"))\n",
        "s=0\n",
        "for i in range(1,n+1):\n",
        "    s=s+i\n",
        "print(s)"
      ],
      "metadata": {
        "colab": {
          "base_uri": "https://localhost:8080/"
        },
        "id": "EdWCg5TlogpY",
        "outputId": "9bec7aec-09e8-4547-9684-d2df30c04eab"
      },
      "execution_count": 6,
      "outputs": [
        {
          "output_type": "stream",
          "name": "stdout",
          "text": [
            "enter a number5\n",
            "15\n"
          ]
        }
      ]
    },
    {
      "cell_type": "code",
      "source": [
        "#5.1\n",
        "a=int(input(\"enter a number\"))\n",
        "b=int(input(\"enter a number\"))\n",
        "c=int(input(\"enter a number\"))\n",
        "\n",
        "print(max(a,b,c))"
      ],
      "metadata": {
        "colab": {
          "base_uri": "https://localhost:8080/"
        },
        "id": "ldr0buSVolb6",
        "outputId": "40135f76-ea84-427f-e817-86bd89d9963b"
      },
      "execution_count": 7,
      "outputs": [
        {
          "output_type": "stream",
          "name": "stdout",
          "text": [
            "enter a number1\n",
            "enter a number5\n",
            "enter a number6\n",
            "6\n"
          ]
        }
      ]
    },
    {
      "cell_type": "code",
      "source": [
        "n=int(input(\"enter a number\"))\n",
        "\n",
        "s=0\n",
        "\n",
        "for i in range (1,n+1):\n",
        "    if i%7==0 and i%9==0:\n",
        "        s=s+i\n",
        "\n",
        "print(s)"
      ],
      "metadata": {
        "colab": {
          "base_uri": "https://localhost:8080/"
        },
        "id": "iQExqdZtotav",
        "outputId": "3ab8e041-91a6-446b-b558-ff30a2b63e6a"
      },
      "execution_count": 8,
      "outputs": [
        {
          "output_type": "stream",
          "name": "stdout",
          "text": [
            "enter a number5\n",
            "0\n"
          ]
        }
      ]
    },
    {
      "cell_type": "code",
      "source": [
        "#5.3\n",
        "\n",
        "b=int(input(\"enetr a number\"))\n",
        "\n",
        "def is_prime(a):\n",
        "    f=0\n",
        "    for i in range(2,a//2+1):\n",
        "        if a%i==0:\n",
        "            f=1\n",
        "            break\n",
        "    if f==0:\n",
        "        # print(\"prime\")\n",
        "        return True\n",
        "    else:\n",
        "        # print(\"not Prime\")\n",
        "        return False\n",
        "\n",
        "# sumP=0\n",
        "for i in range(2,b+1):\n",
        "    if is_prime(i):\n",
        "        sumP=sumP+i\n",
        "\n",
        "print(\"sum of prime nummber is \",sumP)"
      ],
      "metadata": {
        "id": "dNBs6OvQo3Zw"
      },
      "execution_count": null,
      "outputs": []
    },
    {
      "cell_type": "code",
      "source": [
        "#6.1\n",
        "def sum_of_odds(n):\n",
        "    total_sum = 0\n",
        "    for i in range(1, n + 1, 2):\n",
        "        total_sum += i\n",
        "    return total_sum\n",
        "\n",
        "n = int(input(\"enter a number \"))\n",
        "result = sum_of_odds(n)\n",
        "print(result)\n",
        "\n",
        "#6.2\n",
        "def addPrimeNumbers(a):\n",
        "    for i in range(2,a):\n",
        "        if(is_prime(i)):\n",
        "            sumOfPrimes+=i\n",
        "    print(\"sum of the prime numbers upto \", a, \" is ->\", sumOfPrimes)"
      ],
      "metadata": {
        "id": "sgmcScJho78H"
      },
      "execution_count": null,
      "outputs": []
    }
  ]
}